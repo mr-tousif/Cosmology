{
 "cells": [
  {
   "cell_type": "code",
   "execution_count": 379,
   "id": "13eef515",
   "metadata": {},
   "outputs": [],
   "source": [
    "####################################################################################################\n",
    "\n",
    "#This is a python program to calculate the age of the universe:\n",
    "#two different ways the age of the Universe is computed here.\n",
    "\n",
    "#Interm of scale factor a, the Hubble rate is integrated and age is calculated\n",
    "#Interm of redshift z, the Hubble rate is integrated and age is calculated \n",
    "#Several cases and epochs are reviewed to get familiar with the age of the universe that we know from the literatures.\n",
    "\n",
    "\n",
    "#Tousif Raza\n",
    "#Grad Student, Department of Physics & Astronomy\n",
    "#UNM, 87131, USA\n",
    "#email: tousif@unm.edu\n",
    "\n",
    "#####################################################################################################"
   ]
  },
  {
   "cell_type": "markdown",
   "id": "fcd9f6f5",
   "metadata": {},
   "source": [
    "$\\textbf{Energy density and Pressure in the Universe:}$\n",
    "\n",
    "The energy density $\\rho$ is composed of fractions $\\rho_s$ each contributing its own\n",
    "partial pressure $p_s$ according to its own equation of state,\n",
    "\n",
    "$$p_s=c\\omega_s \\rho_s$$     (1)"
   ]
  },
  {
   "cell_type": "markdown",
   "id": "9ca14318",
   "metadata": {},
   "source": [
    "in which $\\omega_s $is a constant. The rate of change of the density $\\rho_s$ is given by,\n",
    "\n",
    "$$\\frac{d\\rho_s}{da}=-\\frac{3}{a}(1+\\omega_s)\\rho_s$$  (2)\n"
   ]
  },
  {
   "cell_type": "markdown",
   "id": "b5793d31",
   "metadata": {},
   "source": [
    "In terms of the present density $\\rho_s(t_0)$ and scale factor $a$ and scale factor $a_0$ today, the solution of (2) ;\n",
    "\n",
    "$$\\rho_s(t)=\\rho_s(t_0)(\\frac{a_0}{a})^{-3(1+\\omega_s)}$$  (3)  "
   ]
  },
  {
   "cell_type": "markdown",
   "id": "03e693dc",
   "metadata": {},
   "source": [
    "Density parameter is defined as, $\\Omega_{s}=\\frac{\\rho_{s}}{\\rho_{c}}$ where s stands for any constituent of the universe: Dark Matter, Radiation or Dark Energy($\\Lambda$). \n",
    "\n",
    "$\\rho_s=\\rho_m+\\rho_r+\\rho_\\Lambda$"
   ]
  },
  {
   "cell_type": "markdown",
   "id": "88d76bdc",
   "metadata": {},
   "source": [
    "We can devide the equation (3) by critical density and $a_0=a(t_0)=1$ today we get, \n",
    "\n",
    "$$\\frac{\\rho_s(t)}{\\rho_{c}}=\\frac{\\rho_s(t_0)}{\\rho_{c}}a^{-3(1+\\omega_s)}$$  (4)\n",
    "\n",
    "\n",
    "$$\\Omega_s(t)=\\Omega_{s}a^{-3(1+\\omega_s)}$$  (5)\n"
   ]
  },
  {
   "cell_type": "markdown",
   "id": "b6e9fb06",
   "metadata": {},
   "source": [
    "$$\n",
    "\\omega_s=\\begin{cases}\n",
    "\t\t\t0, & \\text{Matter, Non relativistic and collisionless}\\\\\n",
    "            \\frac{1}{3}, & \\text{Radiation}\\\\\n",
    "            1, & \\text{Fluid}\\\\\n",
    "          -1,& \\text{Cosmological Constant}\n",
    "\t\t \\end{cases}\n",
    "$$"
   ]
  },
  {
   "cell_type": "markdown",
   "id": "6061775d",
   "metadata": {},
   "source": [
    "Special Case:\n",
    "\n",
    "Let's say Universe filled with  fluid $\\omega_s=1$ and It is flat  and homegenous Universe. In this case the energy density of fluid in Universe scales as:$\\rho_s(t)=\\rho_s(t_0)(\\frac{a_0}{a})^{-6}$ \n",
    "\n",
    "For Matter, the energy density of Matter in Universe scales as: $\\space$ $\\rho_m(t)=\\rho_s(t_0)(\\frac{a_0}{a})^{-3}$ \n",
    "\n",
    "\n",
    "For Radition, the energy density of Radiation in Universe scales as: $\\space$ $\\rho_r(t)=\\rho_s(t_0)(\\frac{a_0}{a})^{-4}$"
   ]
  },
  {
   "cell_type": "markdown",
   "id": "715584cf",
   "metadata": {},
   "source": [
    "Friedmann Equation in Cosmology:\n",
    "    \n",
    "Friedmann equation expresses the square of the instantaneous\n",
    "Hubble rate $H =\\frac{\\dot{a}}{a}$ in terms of the density $\\rho$ and the scale factor a(t)\n",
    "\n",
    "\n",
    "$$ H^2=\\frac{8\\pi G \\rho}{3}-\\frac{Kc^2}{a^2}$$  (6)\n",
    "\n",
    "In a Flat Universe Curvature K=0 we have, $H^2=\\frac{8\\pi G \\rho}{3}$$   =>  $$\\rho=\\frac{3H^2}{8\\pi G}$\n",
    "\n",
    "It is useful define the critical energy density of Universe as, $\\rho_{c}=\\frac{3H_{0}^2}{8\\pi G}$  where $H_0$ is Hubble constant whose value is known today. We can devide (6) by $H_0^2$ we get, $$\\frac{H^2}{H_{0}^2}=\\Omega_{r}(\\frac{a_0}{a})^4+\\Omega_m(\\frac{a_0}{a})^3+\\Omega_\\Lambda+\\Omega_K(\\frac{a_0}{a})^2$$\n",
    "\n",
    "    \n",
    "where, $\\Omega_r=\\frac{\\rho_{r}}{\\rho_{c}},\\Omega_m=\\frac{\\rho_{m}}{\\rho_{c}}, \\Omega_\\Lambda=\\frac{\\rho_\\Lambda}{\\rho_{c}}, \\Omega_K=\\frac{-Kc^2}{H_0^2a_0^2}$"
   ]
  },
  {
   "cell_type": "markdown",
   "id": "2900cba3",
   "metadata": {},
   "source": [
    "\n",
    "\n",
    "$$H=\\frac{\\dot{a}}{a}$$\n",
    "\n",
    "Age of the Universe is, $$\\boxed{t(a)={\\int_{0}^{t=t_0}dt} =\\frac{1}{H_0}{\\int_{0}^{a} \\frac{da}{a\\sqrt{\\Omega_r(\\frac{a_0}{a})^4+\\Omega_m(\\frac{a_0}{a})^3+\\Omega_\\Lambda+\\Omega_K(\\frac{a_0}{a})^2}}}}$$ (7)\n"
   ]
  },
  {
   "cell_type": "markdown",
   "id": "cb1f1a86",
   "metadata": {},
   "source": [
    "We can take $a(t_0)=1$ today then (7) becomes, \n",
    "$$\\boxed{t(a)={\\int_{0}^{t=t_0}dt} =\\frac{1}{H_0}{\\int_{0}^{a(t_0)} \\frac{da}{\\sqrt{\\Omega_r(\\frac{1}{a})^2+\\Omega_m(\\frac{1}{a})+\\Omega_\\Lambda(a^2)+\\Omega_K}}}}$$ (8)\n"
   ]
  },
  {
   "cell_type": "markdown",
   "id": "9fbbd801",
   "metadata": {},
   "source": [
    "Cosmological parameters of the Planck collaboration:\n",
    "\n",
    "\\begin{equation}\\label{eq:erl}\n",
    "H_0 =100h  (Km s^{-1} Mpc^{-1}), h=0.68,\\\\\n",
    "H_0=\\frac{h}{0.98\\times 10^{10} \\text{ years}}\\\\\n",
    "\\Omega_m=0.3111\\pm 0.0056\\\\\n",
    "\\Omega_\\Lambda=0.6867\\pm0.0055 \\\\\n",
    "\\Omega_K=0.0007\\pm 0.0037\n",
    "\\end{equation}"
   ]
  },
  {
   "cell_type": "markdown",
   "id": "0a899c06",
   "metadata": {},
   "source": [
    "Constraint:In Flat Universe it is always  $\\Omega_s+\\Omega_k=1$, where $\\Omega_s=\\Omega_m+\\Omega_r+\\Omega_\\Lambda$"
   ]
  },
  {
   "cell_type": "markdown",
   "id": "fa2a0a55",
   "metadata": {},
   "source": [
    "We have the Integrand is: $\\boxed{\\frac{1}{H_0}{\\frac{1}{\\sqrt{\\Omega_r(\\frac{1}{a})^2+\\Omega_m(\\frac{1}{a})+\\Omega_\\Lambda(a^2)+\\Omega_K}}}}$ ----(9)\n"
   ]
  },
  {
   "cell_type": "code",
   "execution_count": 350,
   "id": "8ea155a0",
   "metadata": {},
   "outputs": [],
   "source": [
    "#Code to solve equation (8) for t(a):\n",
    "\n",
    "import numpy as np\n",
    "import scipy as sp\n",
    "import sympy as smp\n",
    "from scipy.integrate import quad\n",
    "import matplotlib.pyplot as plt"
   ]
  },
  {
   "cell_type": "code",
   "execution_count": 351,
   "id": "c9caceaa",
   "metadata": {},
   "outputs": [],
   "source": [
    "h=0.68             # current measured value by Planck Collaboration\n",
    "H_0=h/(9.77*1e9)   #Hubble Constant value today \n",
    "\n",
    "#1/H_0=9.77*1e9/0.68"
   ]
  },
  {
   "cell_type": "code",
   "execution_count": 352,
   "id": "cdefe4c0",
   "metadata": {},
   "outputs": [],
   "source": [
    "# Universe filled with matter, radiation, dark energy with curvature\n",
    "\n",
    "Omega_m=0.3131        #Matter density parameter\n",
    "Omega_Lambda=0.6867   #density parameter for cosmological constant(Dark Energy)\n",
    "Omega_r=9.081e-5      #density parameter for Radiation\n",
    "#Omega_K=0.0007        #Curvature\n",
    "\n",
    "integrand=lambda a:1/(H_0*np.sqrt(Omega_r*a**-2+Omega_m*a**-1+Omega_Lambda*a**2+Omega_K))  # equation(8)\n",
    "\n",
    "integral, integral_error=quad(integrand,0,1)  # Integration limit 0 to 1, as scale factor a(t)=1 today"
   ]
  },
  {
   "cell_type": "code",
   "execution_count": 353,
   "id": "ce4b1761",
   "metadata": {
    "scrolled": true
   },
   "outputs": [
    {
     "data": {
      "text/plain": [
       "13676540586.593502"
      ]
     },
     "execution_count": 353,
     "metadata": {},
     "output_type": "execute_result"
    }
   ],
   "source": [
    "integral # Age of the universe with matter radiation, dark energy and small curvature"
   ]
  },
  {
   "cell_type": "markdown",
   "id": "03d3fff9",
   "metadata": {},
   "source": [
    "The Age of the universe 13.67*1e9 years=13.67 Billion years filled with matter, radiation dark energy and curvature'''"
   ]
  },
  {
   "cell_type": "code",
   "execution_count": 354,
   "id": "d410d74f",
   "metadata": {},
   "outputs": [],
   "source": [
    "#Universre filled with 30% cold dark matter and 70% dark energy, Age is as following:\n",
    "\n",
    "Omega_m=0.30  #corresponding to Matter \n",
    "\n",
    "Omega_Lambda=0.70  #corresponds Dark Energy \n",
    "\n",
    "integrand_mLambda=lambda a:1/(H_0*np.sqrt(Omega_m*a**-1+Omega_Lambda*a**2)) #  matter+dark energy filled universe\n",
    "\n",
    "integral_mLambda, integral_error=quad(integrand_mLambda,0,1) #limit 0 to 1 as scale factor a(t)=1 today"
   ]
  },
  {
   "cell_type": "code",
   "execution_count": 355,
   "id": "e8d0331f",
   "metadata": {},
   "outputs": [
    {
     "data": {
      "text/plain": [
       "13851839645.025902"
      ]
     },
     "execution_count": 355,
     "metadata": {},
     "output_type": "execute_result"
    }
   ],
   "source": [
    "integral_mLambda #Age of the universe filled with 30% dark matter and 70% dark energy "
   ]
  },
  {
   "cell_type": "markdown",
   "id": "b06afaf3",
   "metadata": {},
   "source": [
    "Age of the universe is 13.85*1e9 years= 13.85 Billion years for 30% dark matter and 70% dark energy'''"
   ]
  },
  {
   "cell_type": "code",
   "execution_count": 356,
   "id": "40acbc10",
   "metadata": {},
   "outputs": [],
   "source": [
    "# Universe entirely filled with non-relativistic matter, In this case age of the universe can be as following:\n",
    "\n",
    "Omega_m=1\n",
    "\n",
    "integrand_m=lambda a:1/(H_0*np.sqrt(Omega_m*a**-1))  # in (8) for complete matter filled universe\n",
    "\n",
    "integral_m, integral_error=quad(integrand_m,0,1) #limit 0 to 1 as scale factor a(t)=1 today"
   ]
  },
  {
   "cell_type": "code",
   "execution_count": 357,
   "id": "11d19720",
   "metadata": {},
   "outputs": [
    {
     "data": {
      "text/plain": [
       "9578431372.549017"
      ]
     },
     "execution_count": 357,
     "metadata": {},
     "output_type": "execute_result"
    }
   ],
   "source": [
    "integral_m  #Age of the universe is 9.57*1e9 years= 9.57 Billion years with completely filled matter'''"
   ]
  },
  {
   "cell_type": "markdown",
   "id": "5548f248",
   "metadata": {},
   "source": [
    "Comments: \n",
    "\n",
    "We can see the age of the universe filled with Radiation, Matter and Dark energy is 13.67 billion years. On the hand a Universe entirely filled with matter, age is 9.57 billion years. This shows entirely matter filled universe is much younger than a Universe filled with Matter, Radiation and Dark energy."
   ]
  },
  {
   "cell_type": "markdown",
   "id": "772cb2c6",
   "metadata": {},
   "source": [
    "\n",
    "\n",
    "However we can do our calculation interms of redshift: For that we need to rewrite equation (8) interms of z and we know  scale factor a is $\\frac{1}{1+z}$: and we also need to change the limit interms of z."
   ]
  },
  {
   "cell_type": "code",
   "execution_count": 358,
   "id": "e07c9b02",
   "metadata": {},
   "outputs": [],
   "source": [
    "#f is the integrand interms of redshift z: \n",
    "\n",
    "f=lambda z:-1/(H_0*np.sqrt((9.11*1e-5*(1+z)**6)+(0.311*(1+z)**5)+(0.6889*(1+z)**2)))  #eqn (9) interms of z"
   ]
  },
  {
   "cell_type": "code",
   "execution_count": 359,
   "id": "b58fa66b",
   "metadata": {},
   "outputs": [],
   "source": [
    "#z+1=1/a ; where a is scale factor the tells about expansion of the universe and z is the redshift\n",
    "#limit of the integration: when a=0;z=infinity and a=1(today) , z=0"
   ]
  },
  {
   "cell_type": "code",
   "execution_count": 360,
   "id": "8509866a",
   "metadata": {},
   "outputs": [],
   "source": [
    "integration=quad(f,np.inf,0.)  #z=infinity(Big Bang) to 0(Today)"
   ]
  },
  {
   "cell_type": "code",
   "execution_count": 361,
   "id": "7d9388bb",
   "metadata": {},
   "outputs": [
    {
     "data": {
      "text/plain": [
       "(13707162543.36717, 16.761844337543153)"
      ]
     },
     "execution_count": 361,
     "metadata": {},
     "output_type": "execute_result"
    }
   ],
   "source": [
    "integration   #first entry is age and the second entry is integration error"
   ]
  },
  {
   "cell_type": "code",
   "execution_count": 362,
   "id": "05078984",
   "metadata": {},
   "outputs": [
    {
     "data": {
      "text/plain": [
       "13707162543.36717"
      ]
     },
     "execution_count": 362,
     "metadata": {},
     "output_type": "execute_result"
    }
   ],
   "source": [
    "integration[0]  #age of the universe with matter, radiation and dark energy specis"
   ]
  },
  {
   "cell_type": "markdown",
   "id": "67ed84fa",
   "metadata": {},
   "source": [
    "age of universe is 13.70 billion years filled with matter , radiation and dark energy."
   ]
  },
  {
   "cell_type": "code",
   "execution_count": 363,
   "id": "112d6352",
   "metadata": {},
   "outputs": [],
   "source": [
    "#Calculating age of the universe for z=infinity to the epoch at z=2\n",
    "\n",
    "integration_1=quad(f,np.inf,2)  #Integration_1 limit , z= infinity(Big bang) to z=2 taken"
   ]
  },
  {
   "cell_type": "code",
   "execution_count": 364,
   "id": "556bb496",
   "metadata": {},
   "outputs": [
    {
     "data": {
      "text/plain": [
       "(3257741892.2064114, 16.9518929558551)"
      ]
     },
     "execution_count": 364,
     "metadata": {},
     "output_type": "execute_result"
    }
   ],
   "source": [
    "integration_1  #first entry is age and the second entry is integration error"
   ]
  },
  {
   "cell_type": "code",
   "execution_count": 365,
   "id": "2655cc8a",
   "metadata": {},
   "outputs": [
    {
     "data": {
      "text/plain": [
       "3257741892.2064114"
      ]
     },
     "execution_count": 365,
     "metadata": {},
     "output_type": "execute_result"
    }
   ],
   "source": [
    "integration_1[0]   #age of the universe is 3.25 billion years for z=infinity to z=2 "
   ]
  },
  {
   "cell_type": "markdown",
   "id": "c6ca0bb1",
   "metadata": {},
   "source": [
    "We can see the age of the universe is 3.25 billion years for Bigbang(z=infinity) to the the epoch of redshift z=2. This Universe is much much younger than today's Universe which is 13.7 billion years old."
   ]
  },
  {
   "cell_type": "code",
   "execution_count": 366,
   "id": "9d9ae3b4",
   "metadata": {},
   "outputs": [],
   "source": [
    "#Calculating age of the universe from z=infinity to the epoch at z=10\n",
    "\n",
    "integration_2=quad(f,np.inf,10)  #Integraton_2 limit, z= infinity to z=10 taken"
   ]
  },
  {
   "cell_type": "code",
   "execution_count": 367,
   "id": "e2d14cdd",
   "metadata": {},
   "outputs": [
    {
     "data": {
      "text/plain": [
       "(468549362.41560906, 0.03384923714161303)"
      ]
     },
     "execution_count": 367,
     "metadata": {},
     "output_type": "execute_result"
    }
   ],
   "source": [
    "integration_2        #first entry is age and the second entry is integration error"
   ]
  },
  {
   "cell_type": "code",
   "execution_count": 368,
   "id": "0c95ea39",
   "metadata": {},
   "outputs": [
    {
     "data": {
      "text/plain": [
       "468549362.41560906"
      ]
     },
     "execution_count": 368,
     "metadata": {},
     "output_type": "execute_result"
    }
   ],
   "source": [
    "integration_2[0]  # Age of the universe is 0.468 billion years for z=infinity to z=10"
   ]
  },
  {
   "cell_type": "markdown",
   "id": "d68eacb0",
   "metadata": {},
   "source": [
    "We can see the age of the universe is 0.468 billion years from Bigbang (z=infinity) to the the epoch of redshift z=10."
   ]
  },
  {
   "cell_type": "code",
   "execution_count": 369,
   "id": "18b8ef7c",
   "metadata": {},
   "outputs": [],
   "source": [
    "#Calculating age of the universe for z=infinity to the epoch of CMB(z=1090 roughly)\n",
    "\n",
    "integration_3=quad(f,np.inf,1090)  #Integration_3 limit , z= infinity to z=1090 (CMB) taken "
   ]
  },
  {
   "cell_type": "code",
   "execution_count": 370,
   "id": "5d318676",
   "metadata": {},
   "outputs": [
    {
     "data": {
      "text/plain": [
       "(369781.5001526333, 0.0010193309773436354)"
      ]
     },
     "execution_count": 370,
     "metadata": {},
     "output_type": "execute_result"
    }
   ],
   "source": [
    "integration_3   #first entry is age and the second entry is integration error"
   ]
  },
  {
   "cell_type": "code",
   "execution_count": 371,
   "id": "64d7fb14",
   "metadata": {},
   "outputs": [
    {
     "data": {
      "text/plain": [
       "369781.5001526333"
      ]
     },
     "execution_count": 371,
     "metadata": {},
     "output_type": "execute_result"
    }
   ],
   "source": [
    "integration_3[0]   #age of the universe at CMB 369781.31 years"
   ]
  },
  {
   "cell_type": "markdown",
   "id": "719af72d",
   "metadata": {},
   "source": [
    "We can verify that Age of the Universe at Cosmic Microwave Background epoch is 369782 years which is a very famous number in CMB Physics."
   ]
  },
  {
   "cell_type": "code",
   "execution_count": 372,
   "id": "14500437",
   "metadata": {},
   "outputs": [],
   "source": [
    "#Calculating age of the universe at epoch when Omega_m=Omega_Lambda \n",
    "#z is 0.3035 for Omega_matter=Omega_lambda case\n",
    "\n",
    "#Omega_m=Density parameter of matter\n",
    "#Omega_Lambda=Density parameter of Dark Energy\n",
    "\n",
    "#Hence we have to integarte the from z=0.3035 to z=0(today) to get the age of the universe\n",
    "\n",
    "integration_4=quad(f,0.3035,0) #Integration_4 limit, z=0.3035 to z=0(today) "
   ]
  },
  {
   "cell_type": "code",
   "execution_count": 373,
   "id": "2f7d838c",
   "metadata": {},
   "outputs": [
    {
     "data": {
      "text/plain": [
       "(3540839707.8192697, 3.931121770127965e-05)"
      ]
     },
     "execution_count": 373,
     "metadata": {},
     "output_type": "execute_result"
    }
   ],
   "source": [
    "integration_4  #first entry is age and the second entry is integration error"
   ]
  },
  {
   "cell_type": "code",
   "execution_count": 374,
   "id": "dfa380b0",
   "metadata": {},
   "outputs": [
    {
     "data": {
      "text/plain": [
       "3540839707.8192697"
      ]
     },
     "execution_count": 374,
     "metadata": {},
     "output_type": "execute_result"
    }
   ],
   "source": [
    "integration_4[0]   #age of the universe for matter=radiation  epoch"
   ]
  },
  {
   "cell_type": "markdown",
   "id": "b0fed4ef",
   "metadata": {},
   "source": [
    "We can see the Age of the Universe is 3.54 billion years when Matter and Radiation was in equality."
   ]
  },
  {
   "cell_type": "code",
   "execution_count": 375,
   "id": "7a231721",
   "metadata": {},
   "outputs": [],
   "source": [
    "#plotting age of universe as a function of redshift:  \n",
    "\n",
    "z=np.linspace(1090,0,100)  #redshift values strating from CMB till today\n",
    "\n",
    "\n",
    "f_1=lambda z:-1/(H_0*np.sqrt((9.11*1e-5*(1+z)**6)+(0.311*(1+z)**5)+(0.6889*(1+z)**2)))\n",
    "\n",
    "age=[]\n",
    "\n",
    "for i in range(1,101):\n",
    "    \n",
    "    integration_5, err=quad(f_1,np.inf,z[i-1])\n",
    "    age.append(integration_5)\n"
   ]
  },
  {
   "cell_type": "code",
   "execution_count": 376,
   "id": "6526fbe5",
   "metadata": {},
   "outputs": [
    {
     "data": {
      "image/png": "[encoded data removed]",
      "text/plain": [
       "<Figure size 720x432 with 1 Axes>"
      ]
     },
     "metadata": {
      "needs_background": "light"
     },
     "output_type": "display_data"
    }
   ],
   "source": [
    "fig,ax=plt.subplots(figsize=(10,6))\n",
    "\n",
    "ax.semilogy(z,np.array(age),'o-' ,color=\"red\",label=\" Age of the Universe\")\n",
    "ax.set_xlabel(\"Redshift: z\",fontsize=16)\n",
    "ax.set_ylabel(\"age of the universe\",fontsize=16)\n",
    "ax.legend(loc=\"upper right\", edgecolor=\"black\")\n",
    "plt.show()"
   ]
  },
  {
   "cell_type": "markdown",
   "id": "cd2da7d9",
   "metadata": {},
   "source": [
    "The above plot shows how Age of the Universe changes with redshift. Today redshift is zero and Age of the Universe is calculated as 13.67 billion years. Here z is taken from epoch of CMB (z=1090) to today(z=0)."
   ]
  },
  {
   "cell_type": "code",
   "execution_count": 377,
   "id": "99fe4902",
   "metadata": {},
   "outputs": [],
   "source": [
    "# Since we have the idea that radiation, density and matter changes with scale factor , so we can see pictorially.\n",
    "\n",
    "\n",
    "a=np.linspace(1e-5,1,100)  #Value of Scale factor\n",
    "\n",
    "density_parameter_r=Omega_r*a**(-4)  #Radiation scales as a^-4\n",
    "\n",
    "density_parameter_m=Omega_m*a**(-3)  # Matter scales as a^-3\n",
    "\n",
    "density_parameter_Lambda=Omega_Lambda*a**(0) #Dark Energy which constant over time"
   ]
  },
  {
   "cell_type": "code",
   "execution_count": 378,
   "id": "c3f836b0",
   "metadata": {},
   "outputs": [
    {
     "data": {
      "image/png": "[encoded data removed]",
      "text/plain": [
       "<Figure size 432x288 with 1 Axes>"
      ]
     },
     "metadata": {
      "needs_background": "light"
     },
     "output_type": "display_data"
    }
   ],
   "source": [
    "plt.loglog(a,density_parameter_r,\"r--\" ,label=\"Radiation\")\n",
    "plt.loglog(a,density_parameter_m, \"green\", label=\"Matter\")\n",
    "plt.axhline(y= Omega_Lambda, xmin=1e-5, xmax=1, color=\"m\", linestyle=\":\",lw=3.0, label=\"Cosmo. Const\")\n",
    "plt.xlabel(\"Scale factor a\")\n",
    "plt.ylabel(\"$\\Omega_s(t)$\")\n",
    "plt.legend(loc=\"upper right\", edgecolor=\"black\")\n",
    "plt.ylim(1e-4, 1e15)\n",
    "plt.title(\"$\\Omega_s(t)$ is Density parameter of different Specis \")\n",
    "plt.show()\n"
   ]
  },
  {
   "cell_type": "markdown",
   "id": "1df404fa",
   "metadata": {},
   "source": [
    "In the above plot we can see at specific values of scale factor there is a cross over between radiation and matter density parameter. At that particular values of scale factor, radiation density and matter density parameter are equal and we can back calculate the redshift corresponding using $z+1=1/a$ and we can also compute the age of the universe in that epoch which is 3.54 billion years ( billion=$10^{9}$ years ). "
   ]
  },
  {
   "cell_type": "code",
   "execution_count": null,
   "id": "e12159af",
   "metadata": {},
   "outputs": [],
   "source": []
  }
 ],
 "metadata": {
  "kernelspec": {
   "display_name": "Python 3 (ipykernel)",
   "language": "python",
   "name": "python3"
  },
  "language_info": {
   "codemirror_mode": {
    "name": "ipython",
    "version": 3
   },
   "file_extension": ".py",
   "mimetype": "text/x-python",
   "name": "python",
   "nbconvert_exporter": "python",
   "pygments_lexer": "ipython3",
   "version": "3.9.12"
  }
 },
 "nbformat": 4,
 "nbformat_minor": 5
}

{
 "cells": [
  {
   "cell_type": "code",
   "execution_count": 100,
   "id": "13eef515",
   "metadata": {},
   "outputs": [],
   "source": [
    "#Energy density and Pressure in the Universe"
   ]
  },
  {
   "cell_type": "markdown",
   "id": "e8bbfc8f",
   "metadata": {},
   "source": [
    "The energy density $\\rho$ is composed of fractions $\\rho_s$ each contributing its own\n",
    "partial pressure $p_s$ according to its own equation of state,\n",
    "\n",
    "$$p_s=c\\omega_s \\rho_s$$     (1)"
   ]
  },
  {
   "cell_type": "markdown",
   "id": "9ca14318",
   "metadata": {},
   "source": [
    "in which $\\omega_s $is a constant. The rate of change of the density $\\rho_s$ is given by,\n",
    "\n",
    "$$\\frac{d\\rho_s}{da}=-\\frac{3}{a}(1+\\omega_s)\\rho_s$$  (2)\n"
   ]
  },
  {
   "cell_type": "markdown",
   "id": "b5793d31",
   "metadata": {},
   "source": [
    "In terms of the present density $\\rho_s(t_0)$ and scale factor $a_0$, the solution is;\n",
    "\n",
    "$$\\rho_s(t)=\\rho_s(t_0)(\\frac{a_0}{a})^{-3(1+\\omega_s)}$$   (3)  "
   ]
  },
  {
   "cell_type": "markdown",
   "id": "03e693dc",
   "metadata": {},
   "source": [
    "Density parameter is defined as, $\\Omega_{s}=\\frac{\\rho_{s}}{\\rho_{c0}}$ where s stands for any constituent of the universe: Dark Matter, Radiation or Dark Energy($\\Lambda$) $$"
   ]
  },
  {
   "cell_type": "markdown",
   "id": "88d76bdc",
   "metadata": {},
   "source": [
    "We can devide the above equation by critical density and $a_0=a(t_0)=1$ today we get, \n",
    "\n",
    "$$\\frac{\\rho_s(t)}{\\rho_{c0}}=\\frac{\\rho_s(t_0)}{\\rho_{c0}}a^{-3(1+\\omega_s)}$$  (4)\n",
    "\n",
    "\n",
    "$$\\Omega_s(t)=\\Omega_{s}a^{-3(1+\\omega_s)}$$  (5)\n"
   ]
  },
  {
   "cell_type": "markdown",
   "id": "b6e9fb06",
   "metadata": {},
   "source": [
    "$$\n",
    "\\omega_s=\\begin{cases}\n",
    "\t\t\t0, & \\text{Matter, Non relativistic and collisionless}\\\\\n",
    "            \\frac{1}{3}, & \\text{Radiation}\\\\\n",
    "            1, & \\text{Fluid}\\\\\n",
    "          -1,& \\text{Cosmological Constant}\n",
    "\t\t \\end{cases}\n",
    "$$"
   ]
  },
  {
   "cell_type": "markdown",
   "id": "6061775d",
   "metadata": {},
   "source": [
    "Special Case:\n",
    "\n",
    "Let's say Universe filled with  fluid $\\omega_s=1$ and It is flat  and homegenous Universe. In this case the energy density of fluid in Universe scales as:\n",
    "\n",
    "$$\\rho_s(t)=\\rho_s(t_0)(\\frac{a_0}{a})^{-6}$$ \n",
    "\n",
    "For Matter, the energy density of Matter in Universe scales as:\n",
    "\n",
    "$$\\rho_s(t)=\\rho_s(t_0)(\\frac{a_0}{a})^{-3}$$ \n",
    "\n",
    "\n",
    "For Radition, the energy density of Radiation in Universe scales as:\n",
    "\n",
    "$$\\rho_s(t)=\\rho_s(t_0)(\\frac{a_0}{a})^{-4}$$ "
   ]
  },
  {
   "cell_type": "markdown",
   "id": "715584cf",
   "metadata": {},
   "source": [
    "Friedmann Equation in Cosmology:\n",
    "    \n",
    "The first-order Friedmann equation expresses the square of the instantaneous\n",
    "Hubble rate $H =\\frac{\\dot{a}}{a}$ in terms of the density $\\rho$ and the scale factor a(t)\n",
    "\n",
    "\n",
    "$$ H^2=\\frac{8\\pi G \\rho}{3}-\\frac{Kc^2}{a^2}$$  (6)\n",
    "\n",
    "In a Flat Universe K=0 we have,\n",
    "\n",
    "$$H^2=\\frac{8\\pi G \\rho}{3}$$  => $$\\rho=\\frac{3H^2}{8\\pi G}$$ \n",
    "\n",
    "It is useful define the critical energy density of Universe as, $\\rho_{c0}=\\frac{3H_{0}^2}{8\\pi G}$ Where $H_0$ is Hubble Constant whose value is known today. We can devide (6) by $H_0^2$ we get,\n",
    "    \n",
    "    "
   ]
  },
  {
   "cell_type": "markdown",
   "id": "2900cba3",
   "metadata": {},
   "source": [
    "$$\\frac{H^2}{H_{0}^2}=\\Omega_{r}(\\frac{a_0}{a})^4+\\Omega_m(\\frac{a_0}{a})^3+\\Omega_\\Lambda+\\Omega_K(\\frac{a_0}{a})^2$$\n",
    "\n",
    "$$H=\\frac{\\dot{a}}{a}$$\n",
    "\n",
    "Age of the Universe is, $$\\boxed{t(a)={\\int_{0}^{t=t_0}dt} =\\frac{1}{H_0}{\\int_{0}^{a} \\frac{da}{a\\sqrt{\\Omega_r(\\frac{a_0}{a})^4+\\Omega_m(\\frac{a_0}{a})^3+\\Omega_\\Lambda+\\Omega_K(\\frac{a_0}{a})^2}}}}$$ (7)\n",
    "\n",
    "where $$\\Omega_r=\\frac{\\rho_{r}}{\\rho_{c0}},\\Omega_m=\\frac{\\rho_{m}}{\\rho_{c0}}, \\Omega_\\Lambda=\\frac{\\rho_\\Lambda}{\\rho_{c0}}, \\Omega_K=\\frac{-Kc^2}{H_0^2a_0^2}$$"
   ]
  },
  {
   "cell_type": "markdown",
   "id": "cb1f1a86",
   "metadata": {},
   "source": [
    "We can take $a(t_0)=1$ today then (7) becomes, \n",
    "$$\\boxed{t(a)={\\int_{0}^{t=t_0}dt} =\\frac{1}{H_0}{\\int_{0}^{a(t_0)} \\frac{da}{\\sqrt{\\Omega_r(\\frac{1}{a})^2+\\Omega_m(\\frac{1}{a})+\\Omega_\\Lambda(a^2)+\\Omega_K}}}}$$ (8)\n"
   ]
  },
  {
   "cell_type": "markdown",
   "id": "9fbbd801",
   "metadata": {},
   "source": [
    "Cosmological parameters of the Planck collaboration:\n",
    "\n",
    "\\begin{equation}\\label{eq:erl}\n",
    "H_0 =100h  (Km s^{-1} Mpc^{-1}), h=0.68,\\\\\n",
    "H_0=\\frac{h}{0.98\\times 10^{10} \\text{ years}}\\\\\n",
    "\\Omega_m=0.3111\\pm 0.0056\\\\\n",
    "\\Omega_\\Lambda=0.6867\\pm0.0055 \\\\\n",
    "\\Omega_K=0.0007\\pm 0.0037\n",
    "\\end{equation}"
   ]
  },
  {
   "cell_type": "markdown",
   "id": "0a899c06",
   "metadata": {},
   "source": [
    "Constraint: $\\Omega_s+\\Omega_k=1$, where $\\Omega_s=\\Omega_m+\\Omega_r+\\Omega_\\Lambda$"
   ]
  },
  {
   "cell_type": "code",
   "execution_count": 101,
   "id": "1d65ec88",
   "metadata": {},
   "outputs": [],
   "source": [
    "#Code to solve equation (8) for t(a):\n",
    "\n",
    "import numpy as np\n",
    "import scipy as sp\n",
    "import sympy as smp\n",
    "from scipy.integrate import quad\n",
    "import matplotlib.pyplot as plt"
   ]
  },
  {
   "cell_type": "code",
   "execution_count": 102,
   "id": "c9caceaa",
   "metadata": {},
   "outputs": [],
   "source": [
    "h=0.68             # current measured value by Planck Collaboration\n",
    "H_0=h/(9.77*1e9)   #Hubble Constant value today \n",
    "\n",
    "#1/H_0=9.77*1e9/0.68"
   ]
  },
  {
   "cell_type": "code",
   "execution_count": 103,
   "id": "cdefe4c0",
   "metadata": {},
   "outputs": [],
   "source": [
    "# Universe filled with matter, radiation, dark energy with curvature\n",
    "\n",
    "Omega_m=0.3131        #Matter density parameter\n",
    "Omega_Lambda=0.6867   #density parameter for cosmological constant(Dark Energy)\n",
    "Omega_r=9.081e-5      #density parameter for Radiation\n",
    "Omega_K=0.0007        #Curvature\n",
    "\n",
    "integrand=lambda a:1/(np.sqrt((Omega_r*a**-2)+(Omega_m*a**-1)+(Omega_Lambda*a**2)+Omega_K)*H_0)  # equation(8)\n",
    "\n",
    "integral, integral_error=quad(integrand,0,1)  # Integration limit 0 to 1, as scale factor a(t)=1 today"
   ]
  },
  {
   "cell_type": "code",
   "execution_count": 104,
   "id": "ce4b1761",
   "metadata": {
    "scrolled": true
   },
   "outputs": [
    {
     "data": {
      "text/plain": [
       "13676540586.593502"
      ]
     },
     "execution_count": 104,
     "metadata": {},
     "output_type": "execute_result"
    }
   ],
   "source": [
    "integral # Age of the universe 13.67*1e9 years=13.67 Billion years with matter, radiation dark energy and curvature'''"
   ]
  },
  {
   "cell_type": "code",
   "execution_count": 105,
   "id": "d410d74f",
   "metadata": {},
   "outputs": [],
   "source": [
    "#Universre filled with 30% cold dark matter and 70% dark energy, Age is as following:\n",
    "\n",
    "Omega_m=0.30  #corresponding to Matter \n",
    "\n",
    "Omega_Lambda=0.70  #corresponds Dark Energy \n",
    "\n",
    "integrand_mLambda=lambda a:1/(np.sqrt((Omega_m*a**-1)+(Omega_Lambda*a**2))*H_0) #  matter+dark energy filled universe\n",
    "\n",
    "integral_mLambda, integral_error=quad(integrand_mLambda,0,1) #limit 0 to 1 as scale factor a(t)=1 today"
   ]
  },
  {
   "cell_type": "code",
   "execution_count": 106,
   "id": "e8d0331f",
   "metadata": {},
   "outputs": [
    {
     "data": {
      "text/plain": [
       "13851839645.025902"
      ]
     },
     "execution_count": 106,
     "metadata": {},
     "output_type": "execute_result"
    }
   ],
   "source": [
    "integral_mLambda #Age of the universe is 17.8*1e9 years= 17.8 Billion years for 30% dark matter and 70% dark energy'''"
   ]
  },
  {
   "cell_type": "code",
   "execution_count": 107,
   "id": "40acbc10",
   "metadata": {},
   "outputs": [],
   "source": [
    "# Universe entirely filled with non-relativistic matter, In this case age of the universe can be as following:\n",
    "\n",
    "Omega_m=1\n",
    "\n",
    "integrand_m=lambda a:1/(np.sqrt(Omega_m/a)*H_0)  # in (8) for complete matter filled universe\n",
    "\n",
    "integral_m, integral_error=quad(integrand_m,0,1) #limit 0 to 1 as scale factor a(t)=1 today"
   ]
  },
  {
   "cell_type": "code",
   "execution_count": 108,
   "id": "11d19720",
   "metadata": {},
   "outputs": [
    {
     "data": {
      "text/plain": [
       "9578431372.549017"
      ]
     },
     "execution_count": 108,
     "metadata": {},
     "output_type": "execute_result"
    }
   ],
   "source": [
    "integral_m  #Age of the universe is 9.57*1e9 years= 9.57 Billion years with completely filled matter'''"
   ]
  },
  {
   "cell_type": "markdown",
   "id": "5548f248",
   "metadata": {},
   "source": [
    "Comments: \n",
    "\n",
    "We can see the age of the universe filled with Radiation, Matter and Dark energy is 13.70 billion years. On the hand a Universe entirely filled with matter, age is 9.57 billion years. This shows entirely matter filled universe is much young than a Universe filled with Matter, Radiation and Dark energy."
   ]
  },
  {
   "cell_type": "code",
   "execution_count": 109,
   "id": "b37f146c",
   "metadata": {},
   "outputs": [],
   "source": [
    "#Universre filled with 100% dark energy, Age is as following:\n",
    "\n",
    "\n",
    "#Omega_Lambda=1  #corresponds Dark Energy \n",
    "\n",
    "#integrand_mLambda=lambda a:1/np.sqrt(Omega_Lambda*a**2)/H_0  # in (8) for complete dark energy filled universe\n",
    "# integrand_mLambda=da/a,\n",
    "#age of the unverse= ln(a) , with limit 0 to 1 ---> ln(1)-ln(0)=0-infinity=infinity\n",
    "#a scales with time ---> indicates a time is infinite, in the FLRW metric\n"
   ]
  },
  {
   "cell_type": "markdown",
   "id": "772cb2c6",
   "metadata": {},
   "source": [
    "However equation (8) can also be written interms of resshift z, $a=\\frac{1}{1+z}$: "
   ]
  },
  {
   "cell_type": "code",
   "execution_count": 110,
   "id": "e07c9b02",
   "metadata": {},
   "outputs": [],
   "source": [
    "f=lambda z:-1/np.sqrt((9.11*1e-5*(1+z)**6)+(0.311*(1+z)**5)+(0.6889*(1+z)**2))  #eqn (8) interms of z"
   ]
  },
  {
   "cell_type": "code",
   "execution_count": 111,
   "id": "8509866a",
   "metadata": {},
   "outputs": [],
   "source": [
    "integration=quad(f,np.inf,0)  #z=infinity(Big Bang) to 0(Today)"
   ]
  },
  {
   "cell_type": "code",
   "execution_count": 112,
   "id": "7d9388bb",
   "metadata": {},
   "outputs": [
    {
     "data": {
      "text/plain": [
       "(0.9540297368976126, 1.1666380776295739e-09)"
      ]
     },
     "execution_count": 112,
     "metadata": {},
     "output_type": "execute_result"
    }
   ],
   "source": [
    "integration"
   ]
  },
  {
   "cell_type": "code",
   "execution_count": 113,
   "id": "12f731aa",
   "metadata": {},
   "outputs": [
    {
     "data": {
      "text/plain": [
       "0.9540297368976126"
      ]
     },
     "execution_count": 113,
     "metadata": {},
     "output_type": "execute_result"
    }
   ],
   "source": [
    "integration[0]"
   ]
  },
  {
   "cell_type": "code",
   "execution_count": 114,
   "id": "92385356",
   "metadata": {},
   "outputs": [
    {
     "data": {
      "text/plain": [
       "13707162543.367168"
      ]
     },
     "execution_count": 114,
     "metadata": {},
     "output_type": "execute_result"
    }
   ],
   "source": [
    "integration[0]*(9.77*1e9)/0.68 #age of universe is 13.70 billion years filled with matter radiation dark energy."
   ]
  },
  {
   "cell_type": "code",
   "execution_count": 115,
   "id": "112d6352",
   "metadata": {},
   "outputs": [],
   "source": [
    "integration_1=quad(f,np.inf,2)  #Redshift z= infinity to z=2 taken"
   ]
  },
  {
   "cell_type": "code",
   "execution_count": 116,
   "id": "556bb496",
   "metadata": {},
   "outputs": [
    {
     "data": {
      "text/plain": [
       "(0.2267415032446632, 1.1798656353533534e-09)"
      ]
     },
     "execution_count": 116,
     "metadata": {},
     "output_type": "execute_result"
    }
   ],
   "source": [
    "integration_1"
   ]
  },
  {
   "cell_type": "code",
   "execution_count": 117,
   "id": "2655cc8a",
   "metadata": {},
   "outputs": [
    {
     "data": {
      "text/plain": [
       "0.2267415032446632"
      ]
     },
     "execution_count": 117,
     "metadata": {},
     "output_type": "execute_result"
    }
   ],
   "source": [
    "integration_1[0]"
   ]
  },
  {
   "cell_type": "code",
   "execution_count": 118,
   "id": "23cd38c6",
   "metadata": {},
   "outputs": [
    {
     "data": {
      "text/plain": [
       "3257741892.2064104"
      ]
     },
     "execution_count": 118,
     "metadata": {},
     "output_type": "execute_result"
    }
   ],
   "source": [
    "integration_1[0]*(9.77*1e9)/0.68  #age of the universe is 3.25 billion years for z=infinity to z=2 "
   ]
  },
  {
   "cell_type": "code",
   "execution_count": 119,
   "id": "9d9ae3b4",
   "metadata": {},
   "outputs": [],
   "source": [
    "integration_2=quad(f,np.inf,10)  #Redshift z= infinity to z=10 taken"
   ]
  },
  {
   "cell_type": "code",
   "execution_count": 120,
   "id": "e2d14cdd",
   "metadata": {},
   "outputs": [
    {
     "data": {
      "text/plain": [
       "(0.032611419287877884, 1.2343905047614469e-09)"
      ]
     },
     "execution_count": 120,
     "metadata": {},
     "output_type": "execute_result"
    }
   ],
   "source": [
    "integration_2"
   ]
  },
  {
   "cell_type": "code",
   "execution_count": 121,
   "id": "dd1c7717",
   "metadata": {},
   "outputs": [
    {
     "data": {
      "text/plain": [
       "468549362.41553956"
      ]
     },
     "execution_count": 121,
     "metadata": {},
     "output_type": "execute_result"
    }
   ],
   "source": [
    "integration_2[0]*(9.77*1e9)/0.68   # Age of the universe is 0.468 billion years for z=infinity to z=10"
   ]
  },
  {
   "cell_type": "code",
   "execution_count": 122,
   "id": "18b8ef7c",
   "metadata": {},
   "outputs": [],
   "source": [
    "integration_3=quad(f,np.inf,1090)  #Redshift z= infinity to z=1090 (CMB) taken "
   ]
  },
  {
   "cell_type": "code",
   "execution_count": 123,
   "id": "5d318676",
   "metadata": {},
   "outputs": [
    {
     "data": {
      "text/plain": [
       "(2.5737082030028343e-05, 7.976814585508699e-09)"
      ]
     },
     "execution_count": 123,
     "metadata": {},
     "output_type": "execute_result"
    }
   ],
   "source": [
    "integration_3"
   ]
  },
  {
   "cell_type": "code",
   "execution_count": 124,
   "id": "64d7fb14",
   "metadata": {},
   "outputs": [
    {
     "data": {
      "text/plain": [
       "369781.3109314366"
      ]
     },
     "execution_count": 124,
     "metadata": {},
     "output_type": "execute_result"
    }
   ],
   "source": [
    "integration_3[0]*(9.77*1e9)/0.68    #age of the universe at CMB 369781.31 years"
   ]
  },
  {
   "cell_type": "code",
   "execution_count": 125,
   "id": "14500437",
   "metadata": {},
   "outputs": [],
   "source": [
    "integration_4=quad(f,0.3035,0) #z is 0.3035 for Omega_matter and 0mega_lambda case"
   ]
  },
  {
   "cell_type": "code",
   "execution_count": 126,
   "id": "2f7d838c",
   "metadata": {},
   "outputs": [
    {
     "data": {
      "text/plain": [
       "(0.24644534302119792, 2.7360929413377855e-15)"
      ]
     },
     "execution_count": 126,
     "metadata": {},
     "output_type": "execute_result"
    }
   ],
   "source": [
    "integration_4"
   ]
  },
  {
   "cell_type": "code",
   "execution_count": 127,
   "id": "dfa380b0",
   "metadata": {},
   "outputs": [
    {
     "data": {
      "text/plain": [
       "3540839707.81927"
      ]
     },
     "execution_count": 127,
     "metadata": {},
     "output_type": "execute_result"
    }
   ],
   "source": [
    "integration_4[0]*(9.77*1e9)/0.68   #age of the universe is 3.54 billion years for Omega_m=Omega_Lambda case"
   ]
  },
  {
   "cell_type": "code",
   "execution_count": 128,
   "id": "7a231721",
   "metadata": {},
   "outputs": [],
   "source": [
    "#plotting age of universe as a function of redshift:  \n",
    "\n",
    "z=np.linspace(1090,0,100)  #redshift values strating from CMB till today\n",
    "\n",
    "\n",
    "factor=(9.77*1e9)/0.68  #1/H_0\n",
    "\n",
    "f_1=lambda z:-factor/np.sqrt((9.11*1e-5*(1+z)**6)+(0.311*(1+z)**5)+(0.6889*(1+z)**2))\n",
    "\n",
    "age=[]\n",
    "\n",
    "for i in range(1,101):\n",
    "    \n",
    "    integration_5, err=quad(f_1,np.inf,z[i-1])\n",
    "    age.append(integration_5)\n"
   ]
  },
  {
   "cell_type": "code",
   "execution_count": 129,
   "id": "6526fbe5",
   "metadata": {},
   "outputs": [
    {
     "data": {
      "image/png": "[encoded data removed]",
      "text/plain": [
       "<Figure size 720x432 with 1 Axes>"
      ]
     },
     "metadata": {
      "needs_background": "light"
     },
     "output_type": "display_data"
    }
   ],
   "source": [
    "fig,ax=plt.subplots(figsize=(10,6))\n",
    "\n",
    "ax.semilogy(z,np.array(age),'o-' ,color=\"red\",label=\" Age of the Universe\")\n",
    "ax.set_xlabel(\"z\",fontsize=14)\n",
    "ax.set_ylabel(\"age of the universe\",fontsize=14)\n",
    "ax.legend(loc=\"upper right\")\n",
    "plt.show()"
   ]
  },
  {
   "cell_type": "markdown",
   "id": "cd2da7d9",
   "metadata": {},
   "source": [
    "Redshift vs Age of the Universe. Today redshift is zero and Age of the Universe is calculated as 13.67 billion years. Here z is taken upto CMB (z=1090)."
   ]
  },
  {
   "cell_type": "code",
   "execution_count": 130,
   "id": "4882ec38",
   "metadata": {},
   "outputs": [],
   "source": [
    "a=np.linspace(1e-5,1,100)  #Value of Scale factor"
   ]
  },
  {
   "cell_type": "code",
   "execution_count": 131,
   "id": "99fe4902",
   "metadata": {},
   "outputs": [],
   "source": [
    "density_parameter_r=Omega_r*a**(-4)  #for Radiation\n",
    "\n",
    "density_parameter_m=Omega_m*a**(-3)  # for  Matter\n",
    "\n",
    "density_parameter_Lambda=Omega_Lambda*a**(0) #for Dark Energy"
   ]
  },
  {
   "cell_type": "code",
   "execution_count": 132,
   "id": "c3f836b0",
   "metadata": {},
   "outputs": [
    {
     "data": {
      "image/png": "[encoded data removed]",
      "text/plain": [
       "<Figure size 432x288 with 1 Axes>"
      ]
     },
     "metadata": {
      "needs_background": "light"
     },
     "output_type": "display_data"
    }
   ],
   "source": [
    "plt.loglog(a,density_parameter_r,\"r--\" ,label=\"Radiation\")\n",
    "plt.loglog(a,density_parameter_m, \"green\", label=\"Matter\")\n",
    "plt.axhline(y= Omega_Lambda, xmin=1e-5, xmax=1, color=\"m\", linestyle=\":\",lw=3.0, label=\"Cosmo. Const\")\n",
    "plt.xlabel(\"Scale factor a\")\n",
    "plt.ylabel(\"$\\Omega_s(t)$\")\n",
    "plt.legend(loc=\"upper right\", edgecolor=\"black\")\n",
    "plt.ylim(1e-4, 1e13)\n",
    "plt.show()\n"
   ]
  }
 ],
 "metadata": {
  "kernelspec": {
   "display_name": "Python 3 (ipykernel)",
   "language": "python",
   "name": "python3"
  },
  "language_info": {
   "codemirror_mode": {
    "name": "ipython",
    "version": 3
   },
   "file_extension": ".py",
   "mimetype": "text/x-python",
   "name": "python",
   "nbconvert_exporter": "python",
   "pygments_lexer": "ipython3",
   "version": "3.9.12"
  }
 },
 "nbformat": 4,
 "nbformat_minor": 5
}

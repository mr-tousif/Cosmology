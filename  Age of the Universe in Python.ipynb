{
 "cells": [
  {
   "cell_type": "code",
   "execution_count": 236,
   "id": "058c5495",
   "metadata": {},
   "outputs": [],
   "source": [
    "#Energy density and Pressure in the Universe"
   ]
  },
  {
   "cell_type": "markdown",
   "id": "092c3aa9",
   "metadata": {},
   "source": [
    "The energy density $\\rho$ is composed of fractions $\\rho_s$ each contributing its own\n",
    "partial pressure $p_s$ according to its own equation of state,\n",
    "\n",
    "$$p_s=c\\omega_s \\rho_s$$     (1)"
   ]
  },
  {
   "cell_type": "markdown",
   "id": "690d0d1c",
   "metadata": {},
   "source": [
    "in which $\\omega_s $is a constant. The rate of change of the density $\\rho_s$ is given by,\n",
    "\n",
    "$$\\frac{d\\rho_s}{da}=-\\frac{3}{a}(1+\\omega_s)\\rho_s$$  (2)\n"
   ]
  },
  {
   "cell_type": "markdown",
   "id": "7fba0c37",
   "metadata": {},
   "source": [
    "In terms of the present density $\\rho_s(t_0)$ and scale factor $a_0$, the solution is;\n",
    "\n",
    "$$\\rho_s(t)=\\rho_s(t_0)(\\frac{a_0}{a})^{-3(1+\\omega_s)}$$   (3)  "
   ]
  },
  {
   "cell_type": "markdown",
   "id": "03e693dc",
   "metadata": {},
   "source": [
    "Density parameter is defined as, $\\Omega_{s}=\\frac{\\rho_{s}}{\\rho_{c0}}$ where s stands for any constituent of the universe: Dark Matter(c), Baryons(b), Photon($\\gamma$), Neutrinos($\\nu$) and a cosmo logical constant ($\\Lambda$) or Dark energy, $$\\rho_{s}=\\rho_{r}+\\rho_{m}+\\rho_\\Lambda $$"
   ]
  },
  {
   "cell_type": "markdown",
   "id": "f481e144",
   "metadata": {},
   "source": [
    "We can devide the above equation by critical density and $a_0=a(t_0)=1$ today we get, \n",
    "\n",
    "$$\\frac{\\rho_s(t)}{\\rho_{c0}}=\\frac{\\rho_s(t_0)}{\\rho_{c0}}a^{-3(1+\\omega_s)}$$  (4)\n",
    "\n",
    "\n",
    "$$\\Omega_s(t)=\\Omega_{s}a^{-3(1+\\omega_s)}$$  (5)\n"
   ]
  },
  {
   "cell_type": "markdown",
   "id": "6ff51b01",
   "metadata": {},
   "source": [
    "$$\n",
    "\\omega_s=\\begin{cases}\n",
    "\t\t\t0, & \\text{Matter, Non relativistic and collisionless}\\\\\n",
    "            \\frac{1}{3}, & \\text{Radiation}\\\\\n",
    "            1, & \\text{Fluid}\\\\\n",
    "          -1,& \\text{Cosmological Constant}\n",
    "\t\t \\end{cases}\n",
    "$$"
   ]
  },
  {
   "cell_type": "markdown",
   "id": "46cee4dd",
   "metadata": {},
   "source": [
    "Special Case:\n",
    "\n",
    "Let's say Universe filled with  fluid $\\omega_s=1$ and It is flat  and homegenous Universe. In this case the energy density of fluid in Universe scales as:\n",
    "\n",
    "$$\\rho_s(t)=\\rho_s(t_0)(\\frac{a_0}{a})^{-6}$$ \n",
    "\n",
    "For Matter, the energy density of Matter in Universe scales as:\n",
    "\n",
    "$$\\rho_s(t)=\\rho_s(t_0)(\\frac{a_0}{a})^{-3}$$ \n",
    "\n",
    "\n",
    "For Radition, the energy density of Radiation in Universe scales as:\n",
    "\n",
    "$$\\rho_s(t)=\\rho_s(t_0)(\\frac{a_0}{a})^{-4}$$ "
   ]
  },
  {
   "cell_type": "markdown",
   "id": "e649a78f",
   "metadata": {},
   "source": [
    "Friedmann Equation in Cosmology:\n",
    "    \n",
    "The first-order Friedmann equation expresses the square of the instantaneous\n",
    "Hubble rate $H =\\frac{\\dot{a}}{a}$ in terms of the density $\\rho$ and the scale factor a(t)\n",
    "\n",
    "\n",
    "$$ H^2=\\frac{8\\pi G \\rho}{3}-\\frac{Kc^2}{a^2}$$  (6)\n",
    "\n",
    "In a Flat Universe K=0 we have,\n",
    "\n",
    "$$H^2=\\frac{8\\pi G \\rho}{3}$$  => $$\\rho=\\frac{3H^2}{8\\pi G}$$ \n",
    "\n",
    "It is useful define the critical energy density of Universe as, $\\rho_{c0}=\\frac{3H_{0}^2}{8\\pi G}$ Where $H_0$ is Hubble Constant whose value is known today. We can devide (6) by $H_0^2$ we get,\n",
    "    \n",
    "    "
   ]
  },
  {
   "cell_type": "markdown",
   "id": "2900cba3",
   "metadata": {},
   "source": [
    "$$\\frac{H^2}{H_{0}^2}=\\Omega_{r}(\\frac{a_0}{a})^4+\\Omega_m(\\frac{a_0}{a})^3+\\Omega_\\Lambda+\\Omega_K(\\frac{a_0}{a})^2$$\n",
    "\n",
    "$$H=\\frac{\\dot{a}}{a}$$\n",
    "\n",
    "Age of the Universe is, $$\\boxed{t(a)={\\int_{0}^{t=t_0}dt} =\\frac{1}{H_0 a}{\\int_{0}^{a} \\frac{da}{\\sqrt{\\Omega_r(\\frac{a_0}{a})^4+\\Omega_m(\\frac{a_0}{a})^3+\\Omega_\\Lambda+\\Omega_K(\\frac{a_0}{a})^2}}}}$$ (7)\n",
    "\n",
    "where $$\\Omega_r=\\frac{\\rho_{r}}{\\rho_{c0}},\\Omega_m=\\frac{\\rho_{m}}{\\rho_{c0}}, \\Omega_\\Lambda=\\frac{\\rho_\\Lambda}{\\rho_{c0}}, \\Omega_K=\\frac{-Kc^2}{H_0^2a_0^2}$$"
   ]
  },
  {
   "cell_type": "markdown",
   "id": "87d9b0bb",
   "metadata": {},
   "source": [
    "We can take $a(t_0)=1$ today then (7) becomes, \n",
    "$$\\boxed{t(a)={\\int_{0}^{t=t_0}dt} =\\frac{1}{H_0}{\\int_{0}^{a(t_0)} \\frac{da}{\\sqrt{\\Omega_r(\\frac{1}{a})^2+\\Omega_m(\\frac{1}{a})+\\Omega_\\Lambda(a^2)+\\Omega_K}}}}$$ (8)\n"
   ]
  },
  {
   "cell_type": "markdown",
   "id": "8bb8e3c9",
   "metadata": {},
   "source": [
    "Cosmological parameters of the Planck collaboration:\n",
    "\n",
    "\\begin{equation}\\label{eq:erl}\n",
    "H_0 =100h Km s^{-1} Mpc^{-1}, h=0.68\\\\\n",
    "H_0=\\frac{h}{0.98\\times 10^{10} \\text{ years}}\\\\\n",
    "\\Omega_m=0.3111\\pm 0.0056\\\\\n",
    "\\Omega_\\Lambda=0.6867\\pm0.0055 \\\\\n",
    "\\Omega_K=0.0007\\pm 0.0037\n",
    "\\end{equation}"
   ]
  },
  {
   "cell_type": "code",
   "execution_count": 237,
   "id": "b394b9dc",
   "metadata": {},
   "outputs": [],
   "source": [
    "#Code to solve equation (8) for t(a):\n",
    "\n",
    "#Universe with Matter , Radition and Dark Energy''"
   ]
  },
  {
   "cell_type": "code",
   "execution_count": 238,
   "id": "1d65ec88",
   "metadata": {},
   "outputs": [],
   "source": [
    "import numpy as np\n",
    "import scipy as sp\n",
    "import sympy as smp\n",
    "from scipy.integrate import quad\n",
    "import matplotlib.pyplot as plt"
   ]
  },
  {
   "cell_type": "code",
   "execution_count": 239,
   "id": "889dded2",
   "metadata": {},
   "outputs": [],
   "source": [
    "Omega_m=0.3131; Omega_Lambda=0.6867  #density parameter for different specis in equation(8)\n",
    "\n",
    "Omega_K=0.0007; Omega_r=9.081e-5"
   ]
  },
  {
   "cell_type": "code",
   "execution_count": 240,
   "id": "91618e34",
   "metadata": {},
   "outputs": [],
   "source": [
    "h=0.68\n",
    "H_0=h/(9.77*1e9)   "
   ]
  },
  {
   "cell_type": "code",
   "execution_count": 241,
   "id": "33e2a4d6",
   "metadata": {},
   "outputs": [
    {
     "name": "stderr",
     "output_type": "stream",
     "text": [
      "/var/folders/px/h6xhv_615bdcvbzrl_q0jfsr0000gn/T/ipykernel_43904/2318025990.py:3: IntegrationWarning: The maximum number of subdivisions (50) has been achieved.\n",
      "  If increasing the limit yields no improvement it is advised to analyze \n",
      "  the integrand in order to determine the difficulties.  If the position of a \n",
      "  local difficulty can be determined (singularity, discontinuity) one will \n",
      "  probably gain from splitting up the interval and calling the integrator \n",
      "  on the subranges.  Perhaps a special-purpose integrator should be used.\n",
      "  integral, integral_error=quad(integrand,0,1)  # Integration\n"
     ]
    }
   ],
   "source": [
    "integrand=lambda a:np.sqrt((Omega_r/(a**2))+(Omega_m/a)+(Omega_Lambda*a**2)+Omega_K)/H_0  # integrand of equation(8)\n",
    "\n",
    "integral, integral_error=quad(integrand,0,1)  # Integration limit 0 to 1, as scale factor a(t)=1 today"
   ]
  },
  {
   "cell_type": "code",
   "execution_count": 242,
   "id": "e16e1d40",
   "metadata": {
    "scrolled": true
   },
   "outputs": [
    {
     "data": {
      "text/plain": [
       "22651309612.242798"
      ]
     },
     "execution_count": 242,
     "metadata": {},
     "output_type": "execute_result"
    }
   ],
   "source": [
    "integral # Integral shows Age of the universe is 22.65*1e9 years= 22.65 Billion years'''"
   ]
  },
  {
   "cell_type": "markdown",
   "id": "32ddee7b",
   "metadata": {},
   "source": [
    "However we can make our make our calculation specific. Let's imagine our universe is entirely filled with non-relativistic matter $\\omega_m=0$.In this case age of the universe can be as following:"
   ]
  },
  {
   "cell_type": "code",
   "execution_count": 247,
   "id": "c16cc3a9",
   "metadata": {},
   "outputs": [],
   "source": [
    "integrand_m=lambda a:np.sqrt(Omega_m/a)/H_0  # in (8) Omega_m term will be there for complete matter filled universe\n",
    "\n",
    "integral_m, integral_error=quad(integrand_m,0,1) #We took the integration limit 0 to 1 as scale factor a(t)=1 today"
   ]
  },
  {
   "cell_type": "code",
   "execution_count": 248,
   "id": "f73e3f5e",
   "metadata": {},
   "outputs": [
    {
     "data": {
      "text/plain": [
       "16078931332.1958"
      ]
     },
     "execution_count": 248,
     "metadata": {},
     "output_type": "execute_result"
    }
   ],
   "source": [
    "integral_m  #Integral shows Age of the universe is 1.60*1e9 years= 1.60 Billion years'''"
   ]
  },
  {
   "cell_type": "markdown",
   "id": "2b50ae83",
   "metadata": {},
   "source": [
    "Comments: We can see the age of the universe filled with Radiation, Matter and Dark energy is 22.65 billion years. On the hand a falt Universe entirely filled with matter, age is 1.60 billion years. This shows entirely matter filled universe is younger than a Universe filled with Matter, Radiation and Dark energy."
   ]
  },
  {
   "cell_type": "markdown",
   "id": "033aa505",
   "metadata": {},
   "source": [
    "Special Case:\n",
    "    \n",
    "    \n",
    "We can also compute the total age $t_{BC}$ that this universe will have at the time of its “big crunch” when\n",
    "the entire universe has collapsed back to a point i.e $a(t_{BC})=0$"
   ]
  },
  {
   "cell_type": "code",
   "execution_count": 249,
   "id": "98e350bc",
   "metadata": {},
   "outputs": [
    {
     "name": "stderr",
     "output_type": "stream",
     "text": [
      "/var/folders/px/h6xhv_615bdcvbzrl_q0jfsr0000gn/T/ipykernel_43904/2979556485.py:3: IntegrationWarning: The maximum number of subdivisions (50) has been achieved.\n",
      "  If increasing the limit yields no improvement it is advised to analyze \n",
      "  the integrand in order to determine the difficulties.  If the position of a \n",
      "  local difficulty can be determined (singularity, discontinuity) one will \n",
      "  probably gain from splitting up the interval and calling the integrator \n",
      "  on the subranges.  Perhaps a special-purpose integrator should be used.\n",
      "  integral_BC, integral_error=quad(integrand,1,0)  # Limit 1 to 0, as scale factor a(t)=1 today & at Big Crunch a(t)=0\n"
     ]
    }
   ],
   "source": [
    "integrand_BC=lambda a:np.sqrt((Omega_r/(a**2))+(Omega_m/a)+(Omega_Lambda*a**2)+Omega_K)/H_0  \n",
    "\n",
    "integral_BC, integral_error=quad(integrand,1,0)  # Limit 1 to 0, as scale factor a(t)=1 today & at Big Crunch a(t)=0\n"
   ]
  },
  {
   "cell_type": "code",
   "execution_count": 250,
   "id": "b79f730c",
   "metadata": {},
   "outputs": [
    {
     "data": {
      "text/plain": [
       "-22651309612.242798"
      ]
     },
     "execution_count": 250,
     "metadata": {},
     "output_type": "execute_result"
    }
   ],
   "source": [
    "integral_BC"
   ]
  },
  {
   "cell_type": "code",
   "execution_count": 252,
   "id": "e24beab3",
   "metadata": {},
   "outputs": [],
   "source": [
    "density_parameter_r=Omega_r*a**(-4)  #for Radiation\n",
    "\n",
    "density_parameter_m=Omega_m*a**(-3)  # for  Matter\n",
    "\n",
    "density_parameter_Lambda=Omega_Lambda*a**(0) #for Dark Energy"
   ]
  },
  {
   "cell_type": "code",
   "execution_count": 244,
   "id": "77534a03",
   "metadata": {},
   "outputs": [],
   "source": [
    "a=np.linspace(1e-5,1,100)  #Value of Scale factor"
   ]
  },
  {
   "cell_type": "code",
   "execution_count": 245,
   "id": "c1e7d31d",
   "metadata": {},
   "outputs": [
    {
     "data": {
      "image/png": "[encoded data removed]",
      "text/plain": [
       "<Figure size 432x288 with 1 Axes>"
      ]
     },
     "metadata": {
      "needs_background": "light"
     },
     "output_type": "display_data"
    }
   ],
   "source": [
    "plt.loglog(a,density_parameter_r,\"r--\" ,label=\"Radiation\")\n",
    "plt.loglog(a,density_parameter_m, \"green\", label=\"Matter\")\n",
    "plt.axhline(y= Omega_Lambda, xmin=1e-5, xmax=1, color=\"m\", linestyle=\":\",lw=3.0, label=\"Cosmo. Const\")\n",
    "plt.xlabel(\"Scale factor a\")\n",
    "plt.ylabel(\"$\\Omega_s(t)$\")\n",
    "plt.legend(loc=\"upper right\", edgecolor=\"black\")\n",
    "plt.ylim(1e-4, 1e13)\n",
    "plt.show()\n"
   ]
  },
  {
   "cell_type": "code",
   "execution_count": null,
   "id": "af0fdb0a",
   "metadata": {},
   "outputs": [],
   "source": []
  },
  {
   "cell_type": "code",
   "execution_count": null,
   "id": "d77ecfc1",
   "metadata": {},
   "outputs": [],
   "source": []
  }
 ],
 "metadata": {
  "kernelspec": {
   "display_name": "Python 3 (ipykernel)",
   "language": "python",
   "name": "python3"
  },
  "language_info": {
   "codemirror_mode": {
    "name": "ipython",
    "version": 3
   },
   "file_extension": ".py",
   "mimetype": "text/x-python",
   "name": "python",
   "nbconvert_exporter": "python",
   "pygments_lexer": "ipython3",
   "version": "3.9.12"
  }
 },
 "nbformat": 4,
 "nbformat_minor": 5
}

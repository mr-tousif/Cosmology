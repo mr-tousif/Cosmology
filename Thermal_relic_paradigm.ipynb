{
 "cells": [
  {
   "cell_type": "markdown",
   "id": "5ff625f9",
   "metadata": {},
   "source": [
    "Cosmic Microwave Background(CMB) data tells us Universe is nearly flat. Good idea to keep in mind the Critical density of Universe,\n",
    "\n",
    "$$\\rho_c=\\frac{3H_0^2}{8\\pi G}$$ \n",
    "\n",
    "$$H_0=100h Km/s/Mpc$$, $$h=0.68(Today)$$,  $$G=6.67\\times10^{-11}N/m^{2} kg^{2}$$"
   ]
  },
  {
   "cell_type": "code",
   "execution_count": 2,
   "id": "8e80830e",
   "metadata": {},
   "outputs": [],
   "source": [
    "import numpy as np\n",
    "import matplotlib.pyplot as plt\n",
    "#import scipy.constants \n",
    "#from scipy.constants import G"
   ]
  },
  {
   "cell_type": "code",
   "execution_count": 3,
   "id": "07cceb48",
   "metadata": {},
   "outputs": [],
   "source": [
    "Km=1e3*1e2 #cm\n",
    "parsec=3.08*1e16*1e2 #cm\n",
    "Mpc=1e6*parsec\n",
    "h=0.68\n",
    "s=1  #second\n",
    "H_0=(100*h*Km)/(s*Mpc)\n",
    "G=6.671e-11*1e5*1e4/1e6  #dyne*cm^2/gm^2"
   ]
  },
  {
   "cell_type": "code",
   "execution_count": 4,
   "id": "3af49dc2",
   "metadata": {},
   "outputs": [],
   "source": [
    "rho_c=(3*H_0**2)/(8*np.pi*G)"
   ]
  },
  {
   "cell_type": "code",
   "execution_count": 5,
   "id": "f38348e6",
   "metadata": {},
   "outputs": [
    {
     "data": {
      "text/plain": [
       "8.721814523166197e-30"
      ]
     },
     "execution_count": 5,
     "metadata": {},
     "output_type": "execute_result"
    }
   ],
   "source": [
    "#critcal density of Universe\n",
    "\n",
    "rho_c   #gm/cm^3"
   ]
  },
  {
   "cell_type": "code",
   "execution_count": 6,
   "id": "3b67bca7",
   "metadata": {},
   "outputs": [],
   "source": [
    "#cold relics"
   ]
  },
  {
   "cell_type": "markdown",
   "id": "cfd4b3c6",
   "metadata": {},
   "source": [
    "$$n=(m_{\\chi}T)^{\\frac{3}{2}} e^{\\frac{-m_\\chi}{T}}$$\n",
    "\n",
    "Freeze-out condition: $n.\\sigma=H$ yields $$n_{f.o.}=\\frac{T_{f.o.}^2}{M_P .\\sigma}$$\n",
    "\n",
    "Let, $\\frac{m_{\\chi}}{T}=\\chi$, cold relic regimes corresponds to $\\chi>>1$. Then we can recast the condition $n.\\sigma=H$ as,\n",
    "\n",
    "$$ \\frac{m_{\\chi}^3}{\\chi^\\frac{3}{2}}e^{-\\chi}=\\frac{M_\\chi^2}{\\chi^2.M_p.\\sigma}$$ \n",
    "\n",
    "Thus we need to solve, $$ \\sqrt{x}.e^{-\\chi}=\\frac{1}{m_\\chi.M_p.\\sigma}$$\n",
    "\n",
    "\n",
    "\n",
    "For Electroweak Interacting cold relic(WIMP), let take $E=m_\\chi$ and Fermi four point interaction effetive theories, plug in $\\sigma\\approx G_F^2.m_\\chi^2$ and $m_\\chi^2=10^2$GeV,\n",
    "\n",
    "$$ \\sqrt{\\chi}.e^{-\\chi}\\approx\\frac{1}{m_\\chi.M_p.\\sigma}\\approx\\frac{1}{10^2.10^{18}.10^{-6}}=10^{-14}$$\n"
   ]
  },
  {
   "cell_type": "code",
   "execution_count": 12,
   "id": "26717f5c",
   "metadata": {},
   "outputs": [
    {
     "data": {
      "text/plain": [
       "Text(0, 0.5, '$\\\\sqrt{\\\\chi}.e^{-\\\\chi}$')"
      ]
     },
     "execution_count": 12,
     "metadata": {},
     "output_type": "execute_result"
    },
    {
     "data": {
      "image/png": "[encoded data removed]",
      "text/plain": [
       "<Figure size 432x288 with 1 Axes>"
      ]
     },
     "metadata": {
      "needs_background": "light"
     },
     "output_type": "display_data"
    }
   ],
   "source": [
    "#plot\n",
    "\n",
    "x=np.linspace(1,50,50)\n",
    "y=x*np.exp(-x)\n",
    "plt.semilogy(x,y)\n",
    "plt.axhline(y=1e-8,xmin=0, xmax=50, color=\"y\", linestyle=\"-\",lw=1.5)\n",
    "plt.axhline(y=1e-14,xmin=0, xmax=50, color=\"g\", linestyle=\"-\",lw=1.5, label=\"WIMP of 100 GeV\")\n",
    "plt.axhline(y=1e-20,xmin=0, xmax=50, color=\"r\", linestyle=\"-\",lw=1.5)\n",
    "plt.legend()\n",
    "plt.xlabel(f\"$\\chi=M_\\chi/T$\")\n",
    "plt.ylabel(\"$\\sqrt{\\chi}.e^{-\\chi}$\")"
   ]
  },
  {
   "cell_type": "code",
   "execution_count": null,
   "id": "fa51f51b",
   "metadata": {},
   "outputs": [],
   "source": []
  },
  {
   "cell_type": "code",
   "execution_count": null,
   "id": "2fd8a0ce",
   "metadata": {},
   "outputs": [],
   "source": []
  }
 ],
 "metadata": {
  "kernelspec": {
   "display_name": "Python 3 (ipykernel)",
   "language": "python",
   "name": "python3"
  },
  "language_info": {
   "codemirror_mode": {
    "name": "ipython",
    "version": 3
   },
   "file_extension": ".py",
   "mimetype": "text/x-python",
   "name": "python",
   "nbconvert_exporter": "python",
   "pygments_lexer": "ipython3",
   "version": "3.10.6"
  }
 },
 "nbformat": 4,
 "nbformat_minor": 5
}
